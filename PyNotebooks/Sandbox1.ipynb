{
 "cells": [
  {
   "cell_type": "code",
   "execution_count": 1,
   "metadata": {},
   "outputs": [],
   "source": [
    "import os\n",
    "import numpy as np\n",
    "import pandas as pd\n",
    "import matplotlib.pyplot as plt\n",
    "from sklearn import datasets as ds\n",
    "import tensorflow as tf\n",
    "import seaborn as sns"
   ]
  },
  {
   "cell_type": "code",
   "execution_count": 67,
   "metadata": {},
   "outputs": [],
   "source": [
    "x_val = [\n",
    "    [3.0, 2.0],\n",
    "    [1.0, 2.0],\n",
    "]"
   ]
  },
  {
   "cell_type": "code",
   "execution_count": 95,
   "metadata": {},
   "outputs": [
    {
     "name": "stdout",
     "output_type": "stream",
     "text": [
      "1 : x1^2 * x2^0\n",
      "(?, 1)\n",
      "2 : x1^1 * x2^1\n",
      "(?, 1)\n",
      "3 : x1^0 * x2^2\n",
      "(?, 1)\n",
      "[[3. 2. 9. 6. 4.]\n",
      " [1. 2. 1. 2. 4.]]\n",
      "[[3.]\n",
      " [1.]]\n",
      "[[2.]\n",
      " [2.]]\n"
     ]
    }
   ],
   "source": [
    "# x = tf.placeholder(tf.float32, [None, 2], name='x')\n",
    "y = tf.placeholder(tf.float32, [None, 1], name='y')\n",
    "\n",
    "z1, z2 = tf.split(x, [1, 1], axis=1)\n",
    "\n",
    "y = x\n",
    "\n",
    "k = 1\n",
    "for i in range(2, 3):\n",
    "    for j in range(i+1):\n",
    "        print (\"{2} : x1^{0} * x2^{1}\".format(i-j, j, k))\n",
    "        k = k + 1\n",
    "        a = pow(z1, i-j) * pow(z2, j)\n",
    "        print(a.shape)\n",
    "        y = tf.concat([y, a], axis=1)\n",
    "\n",
    "with tf.Session() as sess:\n",
    "    y_val = sess.run(y, {x: x_val})\n",
    "    z1_val, z2_val = sess.run((z1, z2), {x: x_val})\n",
    "    print(y_val)\n",
    "    print(z1_val)\n",
    "    print(z2_val)"
   ]
  },
  {
   "cell_type": "code",
   "execution_count": null,
   "metadata": {},
   "outputs": [],
   "source": []
  }
 ],
 "metadata": {
  "kernelspec": {
   "display_name": "Python 3",
   "language": "python",
   "name": "python3"
  },
  "language_info": {
   "codemirror_mode": {
    "name": "ipython",
    "version": 3
   },
   "file_extension": ".py",
   "mimetype": "text/x-python",
   "name": "python",
   "nbconvert_exporter": "python",
   "pygments_lexer": "ipython3",
   "version": "3.6.5"
  }
 },
 "nbformat": 4,
 "nbformat_minor": 2
}
