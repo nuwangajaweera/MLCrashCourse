{
 "cells": [
  {
   "cell_type": "code",
   "execution_count": 2,
   "metadata": {},
   "outputs": [],
   "source": [
    "import numpy as np\n",
    "import pandas as pd\n",
    "import matplotlib.pyplot as plt\n",
    "from sklearn import datasets as ds\n",
    "import tensorflow as tf\n",
    "import seaborn as sns\n",
    "from mpl_toolkits.mplot3d import Axes3D"
   ]
  },
  {
   "cell_type": "code",
   "execution_count": 96,
   "metadata": {},
   "outputs": [
    {
     "data": {
      "text/plain": [
       "((35, 35), (35, 35))"
      ]
     },
     "execution_count": 96,
     "metadata": {},
     "output_type": "execute_result"
    }
   ],
   "source": [
    "xx, yy = np.meshgrid(np.arange(-3.0, 4.0, 0.2), np.arange(-4.0, 3.0, 0.2))\n",
    "xx.shape, yy.shape"
   ]
  },
  {
   "cell_type": "code",
   "execution_count": 97,
   "metadata": {},
   "outputs": [
    {
     "data": {
      "text/plain": [
       "(1225, 2)"
      ]
     },
     "execution_count": 97,
     "metadata": {},
     "output_type": "execute_result"
    }
   ],
   "source": [
    "z1 = np.c_[xx.ravel(), yy.ravel()]\n",
    "z1.shape"
   ]
  },
  {
   "cell_type": "code",
   "execution_count": 101,
   "metadata": {},
   "outputs": [
    {
     "data": {
      "text/plain": [
       "array([[7.20048993e+10, 2.25725409e+10, 7.66553389e+09, ...,\n",
       "        9.31442224e+11, 3.77718447e+12, 1.65929662e+13],\n",
       "       [1.51308267e+10, 4.74330506e+09, 1.61080518e+09, ...,\n",
       "        1.95729609e+11, 7.93722706e+11, 3.48678073e+12],\n",
       "       [3.44434640e+09, 1.07975500e+09, 3.66679967e+08, ...,\n",
       "        4.45554358e+10, 1.80681202e+11, 7.93722706e+11],\n",
       "       ...,\n",
       "       [2.57150014e+06, 8.06129759e+05, 2.73758059e+05, ...,\n",
       "        3.32644561e+07, 1.34894021e+08, 5.92582108e+08],\n",
       "       [6.99006211e+06, 2.19128788e+06, 7.44151558e+05, ...,\n",
       "        9.04221665e+07, 3.66679967e+08, 1.61080518e+09],\n",
       "       [2.05834930e+07, 6.45264060e+06, 2.19128788e+06, ...,\n",
       "        2.66264305e+08, 1.07975500e+09, 4.74330506e+09]])"
      ]
     },
     "execution_count": 101,
     "metadata": {},
     "output_type": "execute_result"
    }
   ],
   "source": [
    "def func1(z):\n",
    "    x = z[:,0]\n",
    "    y = z[:,1]\n",
    "    return np.exp(x**2 + y**2)\n",
    "\n",
    "Z = func1(z1)\n",
    "Z = Z.reshape(xx.shape)\n",
    "Z.shape\n",
    "Z"
   ]
  },
  {
   "cell_type": "code",
   "execution_count": 99,
   "metadata": {},
   "outputs": [
    {
     "data": {
      "text/plain": [
       "<matplotlib.contour.QuadContourSet at 0x7ffabd57c6d8>"
      ]
     },
     "execution_count": 99,
     "metadata": {},
     "output_type": "execute_result"
    },
    {
     "data": {
      "image/png": "[encoded data removed]",
      "text/plain": [
       "<Figure size 432x288 with 1 Axes>"
      ]
     },
     "metadata": {},
     "output_type": "display_data"
    }
   ],
   "source": [
    "#plt.contour(xx, yy, Z, alpha=0.3)\n",
    "plt.plot3d()"
   ]
  },
  {
   "cell_type": "code",
   "execution_count": 100,
   "metadata": {},
   "outputs": [
    {
     "data": {
      "text/plain": [
       "array([], shape=(0, 3), dtype=float64)"
      ]
     },
     "execution_count": 100,
     "metadata": {},
     "output_type": "execute_result"
    }
   ],
   "source": [
    "#dt = pd.DataFrame([xx, yy, Z])\n",
    "#xx.flatten().shape, yy.flatten().shape, Z.flatten().shape\n",
    "dt = np.column_stack([xx.flatten().T, yy.flatten().T, Z.flatten().T])\n",
    "dx = np.where(dt[:,2] == 0)\n",
    "dt[dx]"
   ]
  }
 ],
 "metadata": {
  "kernelspec": {
   "display_name": "Python 3",
   "language": "python",
   "name": "python3"
  },
  "language_info": {
   "codemirror_mode": {
    "name": "ipython",
    "version": 3
   },
   "file_extension": ".py",
   "mimetype": "text/x-python",
   "name": "python",
   "nbconvert_exporter": "python",
   "pygments_lexer": "ipython3",
   "version": "3.6.5"
  }
 },
 "nbformat": 4,
 "nbformat_minor": 2
}
